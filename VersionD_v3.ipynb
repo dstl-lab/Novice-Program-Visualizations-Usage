{
 "cells": [
  {
   "cell_type": "markdown",
   "id": "53272d21",
   "metadata": {},
   "source": [
    "Version D: Student w/, Sales w/o"
   ]
  },
  {
   "cell_type": "code",
   "execution_count": null,
   "id": "e3f2e6c8",
   "metadata": {},
   "outputs": [],
   "source": [
    "import pandas as pd\n",
    "import numpy as np"
   ]
  },
  {
   "cell_type": "markdown",
   "id": "40661c3b",
   "metadata": {},
   "source": [
    "## Case 1: Student DataFrame \n",
    "\n",
    "We have records of some student information in the `student` DataFrame with 4 columns: \n",
    "- `Student`: the name of the student\n",
    "- `Course`: the class that the student has taken\n",
    "- `Percentage`: the student's grade in percentage\n",
    "- `Grade`: the letter grade that the student received \n",
    "\n",
    "The `student` DataFrame is also shown below."
   ]
  },
  {
   "cell_type": "code",
   "execution_count": null,
   "id": "8c45e740",
   "metadata": {},
   "outputs": [],
   "source": [
    "student = pd.read_csv('data/student_grades.csv')\n",
    "student"
   ]
  },
  {
   "cell_type": "markdown",
   "id": "2bec9b51",
   "metadata": {},
   "source": [
    "### Given the code below with annotative visualizations, come up with a short description of the purpose of the code."
   ]
  },
  {
   "cell_type": "markdown",
   "id": "b1933a6a",
   "metadata": {},
   "source": [
    "In the next cell below, we will load [Pandas Tutor](https://pandastutor.com/), which enhances the default output with annotated visualizations. By including the cell magic `%%pt` in the first line of any cell, you can visualize the last line of code within that cell."
   ]
  },
  {
   "cell_type": "code",
   "execution_count": null,
   "id": "bfff9daa",
   "metadata": {},
   "outputs": [],
   "source": [
    "%reload_ext pandas_tutor"
   ]
  },
  {
   "cell_type": "markdown",
   "id": "0c170368",
   "metadata": {},
   "source": [
    "### Case Theta"
   ]
  },
  {
   "cell_type": "code",
   "execution_count": null,
   "id": "0e43a3c1",
   "metadata": {
    "scrolled": true
   },
   "outputs": [],
   "source": [
    "%%pt\n",
    "student.sort_values('Percentage', ascending = False).iloc[:3, 1:3].groupby('Course').count()"
   ]
  },
  {
   "cell_type": "code",
   "execution_count": null,
   "id": "e853a08f",
   "metadata": {},
   "outputs": [],
   "source": []
  },
  {
   "cell_type": "markdown",
   "id": "0fcd9bb9",
   "metadata": {},
   "source": [
    "### Case Gamma"
   ]
  },
  {
   "cell_type": "code",
   "execution_count": null,
   "id": "da21870f",
   "metadata": {
    "scrolled": false
   },
   "outputs": [],
   "source": [
    "%%pt\n",
    "instructor = pd.DataFrame({'Course': ['DSC10', 'COGS18'], \"Instructor\": [\"Sam\", \"Samuel\"]})\n",
    "(\n",
    "    student.merge(instructor, how='inner', on='Course')\n",
    "    .pivot_table(index='Instructor', columns='Grade', values='Student', aggfunc='count')\n",
    ")"
   ]
  },
  {
   "cell_type": "code",
   "execution_count": null,
   "id": "5a81341c",
   "metadata": {},
   "outputs": [],
   "source": []
  },
  {
   "cell_type": "markdown",
   "id": "6995c551",
   "metadata": {},
   "source": [
    "### Case Kappa"
   ]
  },
  {
   "cell_type": "code",
   "execution_count": null,
   "id": "d8856e55",
   "metadata": {
    "scrolled": true
   },
   "outputs": [],
   "source": [
    "%%pt\n",
    "def aboveCutoff(df, cutoff):\n",
    "    return df['Percentage'].mean() > cutoff\n",
    "\n",
    "(\n",
    "    student.groupby('Student')\n",
    "    .filter(aboveCutoff, cutoff=85)\n",
    "    .groupby('Course')\n",
    "    .agg({'Student': 'count', 'Percentage': 'mean', 'Grade': 'unique'})\n",
    ")"
   ]
  },
  {
   "cell_type": "code",
   "execution_count": null,
   "id": "59c99e54",
   "metadata": {},
   "outputs": [],
   "source": []
  },
  {
   "cell_type": "markdown",
   "id": "950d556c",
   "metadata": {},
   "source": [
    "## Case 2: Sales DataFrame \n",
    "\n",
    "At the company, we keep track of the `sales` as a DataFrame with 3 columns: \n",
    "- `Salesperson`: the employee who sold the items\n",
    "- `Product`: the items that were sold\n",
    "- `Quantity_Sold`: the count of items that were sold\n",
    "\n",
    "The `sales` DataFrame is also shown below."
   ]
  },
  {
   "cell_type": "code",
   "execution_count": null,
   "id": "d4edd9d8",
   "metadata": {
    "scrolled": false
   },
   "outputs": [],
   "source": [
    "sales = pd.read_csv('data/quarter_sales.csv')\n",
    "sales"
   ]
  },
  {
   "cell_type": "markdown",
   "id": "2a1f06f9",
   "metadata": {},
   "source": [
    "### Given the code below with default visualizations, come up with a short description of the purpose of the code."
   ]
  },
  {
   "cell_type": "markdown",
   "id": "a88da809",
   "metadata": {},
   "source": [
    "### Case Epsilon"
   ]
  },
  {
   "cell_type": "code",
   "execution_count": null,
   "id": "3f6d4ed0",
   "metadata": {
    "scrolled": false
   },
   "outputs": [],
   "source": [
    "sales.sort_values('Quantity_Sold', ascending = False).iloc[:3, 1:3].groupby('Product').count()"
   ]
  },
  {
   "cell_type": "code",
   "execution_count": null,
   "id": "5847f082",
   "metadata": {},
   "outputs": [],
   "source": []
  },
  {
   "cell_type": "markdown",
   "id": "9a497058",
   "metadata": {},
   "source": [
    "### Case Zeta"
   ]
  },
  {
   "cell_type": "code",
   "execution_count": null,
   "id": "8dae94cb",
   "metadata": {
    "scrolled": true
   },
   "outputs": [],
   "source": [
    "prices = pd.DataFrame({'Product': ['T-shirt', 'Sweater'], 'Price': [20.99, 29.99]})\n",
    "(\n",
    "    sales.merge(prices, how='inner', on='Product')\n",
    "    .pivot_table(index='Salesperson', columns='Price', values='Quantity_Sold', aggfunc='sum')\n",
    ")"
   ]
  },
  {
   "cell_type": "code",
   "execution_count": null,
   "id": "4d85d4ef",
   "metadata": {},
   "outputs": [],
   "source": []
  },
  {
   "cell_type": "markdown",
   "id": "e511e38b",
   "metadata": {},
   "source": [
    "### Case Lambda"
   ]
  },
  {
   "cell_type": "code",
   "execution_count": null,
   "id": "8a421702",
   "metadata": {
    "scrolled": false
   },
   "outputs": [],
   "source": [
    "def aboveCutoff(df, cutoff):\n",
    "    return df['Quantity_Sold'].sum() > cutoff\n",
    "\n",
    "(\n",
    "    sales.groupby('Product')\n",
    "    .filter(aboveCutoff, cutoff=35)\n",
    "    .groupby('Salesperson')\n",
    "    .agg({'Product': 'nunique', 'Quantity_Sold': 'mean'})\n",
    " )"
   ]
  },
  {
   "cell_type": "code",
   "execution_count": null,
   "id": "ac9b95c5",
   "metadata": {},
   "outputs": [],
   "source": []
  }
 ],
 "metadata": {
  "kernelspec": {
   "display_name": "Python 3 (ipykernel)",
   "language": "python",
   "name": "python3"
  },
  "language_info": {
   "codemirror_mode": {
    "name": "ipython",
    "version": 3
   },
   "file_extension": ".py",
   "mimetype": "text/x-python",
   "name": "python",
   "nbconvert_exporter": "python",
   "pygments_lexer": "ipython3",
   "version": "3.8.19"
  }
 },
 "nbformat": 4,
 "nbformat_minor": 5
}
