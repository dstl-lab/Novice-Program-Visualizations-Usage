{
 "cells": [
  {
   "cell_type": "markdown",
   "id": "87eac2be",
   "metadata": {},
   "source": [
    "Version A: Sales w/o, Student w/"
   ]
  },
  {
   "cell_type": "code",
   "execution_count": null,
   "id": "ad2f313e",
   "metadata": {},
   "outputs": [],
   "source": [
    "import pandas as pd\n",
    "import numpy as np"
   ]
  },
  {
   "cell_type": "markdown",
   "id": "7a8eb08b",
   "metadata": {},
   "source": [
    "## Case 1: Sales DataFrame \n",
    "\n",
    "At the company, we keep track of the `sales` as a DataFrame with 3 columns: \n",
    "- `Salesperson`: the employee who sold the items\n",
    "- `Product`: the items that were sold\n",
    "- `Quantity_Sold`: the count of items that were sold\n",
    "\n",
    "The `sales` DataFrame is also shown below."
   ]
  },
  {
   "cell_type": "code",
   "execution_count": null,
   "id": "1c594252",
   "metadata": {
    "scrolled": true
   },
   "outputs": [],
   "source": [
    "sales = pd.read_csv('data/quarter_sales.csv')\n",
    "sales"
   ]
  },
  {
   "cell_type": "markdown",
   "id": "ef3d5421",
   "metadata": {},
   "source": [
    "### Given the code below with default visualizations, come up with a short description of the purpose of the code."
   ]
  },
  {
   "cell_type": "markdown",
   "id": "32d506b6",
   "metadata": {},
   "source": [
    "### Case Epsilon"
   ]
  },
  {
   "cell_type": "code",
   "execution_count": null,
   "id": "a8a79e79",
   "metadata": {
    "scrolled": true
   },
   "outputs": [],
   "source": [
    "sales.sort_values('Quantity_Sold', ascending = False).iloc[:3, 1:3].groupby('Product').count()"
   ]
  },
  {
   "cell_type": "code",
   "execution_count": null,
   "id": "bb48c28f",
   "metadata": {},
   "outputs": [],
   "source": []
  },
  {
   "cell_type": "markdown",
   "id": "432dbb4e",
   "metadata": {},
   "source": [
    "### Case Zeta"
   ]
  },
  {
   "cell_type": "code",
   "execution_count": null,
   "id": "6619edb5",
   "metadata": {
    "scrolled": true
   },
   "outputs": [],
   "source": [
    "prices = pd.DataFrame({'Product': ['T-shirt', 'Sweater'], 'Price': [20.99, 29.99]})\n",
    "(\n",
    "    sales.merge(prices, how='inner', on='Product')\n",
    "    .pivot_table(index='Salesperson', columns='Price', values='Quantity_Sold', aggfunc='sum')\n",
    ")"
   ]
  },
  {
   "cell_type": "code",
   "execution_count": null,
   "id": "ca922e79",
   "metadata": {},
   "outputs": [],
   "source": []
  },
  {
   "cell_type": "markdown",
   "id": "f16316c1",
   "metadata": {},
   "source": [
    "### Case Lambda"
   ]
  },
  {
   "cell_type": "code",
   "execution_count": null,
   "id": "59cb4ab1",
   "metadata": {
    "scrolled": false
   },
   "outputs": [],
   "source": [
    "def aboveCutoff(df, cutoff):\n",
    "    return df['Quantity_Sold'].sum() > cutoff\n",
    "\n",
    "(\n",
    "    sales.groupby('Product')\n",
    "    .filter(aboveCutoff, cutoff=35)\n",
    "    .groupby('Salesperson')\n",
    "    .agg({'Product': 'nunique', 'Quantity_Sold': 'mean'})\n",
    " )"
   ]
  },
  {
   "cell_type": "code",
   "execution_count": null,
   "id": "582a66bc",
   "metadata": {},
   "outputs": [],
   "source": []
  },
  {
   "cell_type": "markdown",
   "id": "58320a8a",
   "metadata": {},
   "source": [
    "## Case 2: Student DataFrame \n",
    "\n",
    "We have records of some student information in the `student` DataFrame with 4 columns: \n",
    "- `Student`: the name of the student\n",
    "- `Course`: the class that the student has taken\n",
    "- `Percentage`: the student's grade in percentage\n",
    "- `Grade`: the letter grade that the student received \n",
    "\n",
    "The `student` DataFrame is also shown below."
   ]
  },
  {
   "cell_type": "code",
   "execution_count": null,
   "id": "6e72e56e",
   "metadata": {},
   "outputs": [],
   "source": [
    "student = pd.read_csv('data/student_grades.csv')\n",
    "student"
   ]
  },
  {
   "cell_type": "markdown",
   "id": "ff459fad",
   "metadata": {},
   "source": [
    "### Given the code below with annotative visualizations, come up with a short description of the purpose of the code."
   ]
  },
  {
   "cell_type": "markdown",
   "id": "c55c69a3",
   "metadata": {},
   "source": [
    "In the next cell below, we will load [Pandas Tutor](https://pandastutor.com/), which enhances the default output with annotated visualizations. By including the cell magic `%%pt` in the first line of any cell, you can visualize the last line of code within that cell."
   ]
  },
  {
   "cell_type": "code",
   "execution_count": null,
   "id": "938071cf",
   "metadata": {},
   "outputs": [],
   "source": [
    "%reload_ext pandas_tutor"
   ]
  },
  {
   "cell_type": "markdown",
   "id": "0aba1e7c",
   "metadata": {},
   "source": [
    "### Case Theta"
   ]
  },
  {
   "cell_type": "code",
   "execution_count": null,
   "id": "b1200809",
   "metadata": {},
   "outputs": [],
   "source": [
    "%%pt\n",
    "student.sort_values('Percentage', ascending = False).iloc[:3, 1:3].groupby('Course').count()"
   ]
  },
  {
   "cell_type": "code",
   "execution_count": null,
   "id": "94ba9d0a",
   "metadata": {},
   "outputs": [],
   "source": []
  },
  {
   "cell_type": "markdown",
   "id": "5bb19c3d",
   "metadata": {},
   "source": [
    "### Case Gamma"
   ]
  },
  {
   "cell_type": "code",
   "execution_count": null,
   "id": "5e994ebc",
   "metadata": {},
   "outputs": [],
   "source": [
    "%%pt\n",
    "instructor = pd.DataFrame({'Course': ['DSC10', 'COGS18'], \"Instructor\": [\"Sam\", \"Samuel\"]})\n",
    "(\n",
    "    student.merge(instructor, how='inner', on='Course')\n",
    "    .pivot_table(index='Instructor', columns='Grade', values='Student', aggfunc='count')\n",
    ")"
   ]
  },
  {
   "cell_type": "code",
   "execution_count": null,
   "id": "c768da46",
   "metadata": {},
   "outputs": [],
   "source": []
  },
  {
   "cell_type": "markdown",
   "id": "2c19eace",
   "metadata": {},
   "source": [
    "### Case Kappa"
   ]
  },
  {
   "cell_type": "code",
   "execution_count": null,
   "id": "20dfd668",
   "metadata": {},
   "outputs": [],
   "source": [
    "%%pt \n",
    "def aboveCutoff(df, cutoff):\n",
    "    return df['Percentage'].mean() > cutoff\n",
    "\n",
    "(\n",
    "    student.groupby('Student')\n",
    "    .filter(aboveCutoff, cutoff=85)\n",
    "    .groupby('Course')\n",
    "    .agg({'Student': 'count', 'Percentage': 'mean', 'Grade': 'unique'})\n",
    ")"
   ]
  },
  {
   "cell_type": "code",
   "execution_count": null,
   "id": "02001829",
   "metadata": {},
   "outputs": [],
   "source": []
  }
 ],
 "metadata": {
  "kernelspec": {
   "display_name": "Python 3 (ipykernel)",
   "language": "python",
   "name": "python3"
  },
  "language_info": {
   "codemirror_mode": {
    "name": "ipython",
    "version": 3
   },
   "file_extension": ".py",
   "mimetype": "text/x-python",
   "name": "python",
   "nbconvert_exporter": "python",
   "pygments_lexer": "ipython3",
   "version": "3.8.19"
  }
 },
 "nbformat": 4,
 "nbformat_minor": 5
}
